{
  "nbformat": 4,
  "nbformat_minor": 0,
  "metadata": {
    "colab": {
      "provenance": []
    },
    "kernelspec": {
      "name": "python3",
      "display_name": "Python 3"
    },
    "language_info": {
      "name": "python"
    }
  },
  "cells": [
    {
      "cell_type": "markdown",
      "source": [
        "### Some basic MNIST dataset exploration"
      ],
      "metadata": {
        "id": "nBAk9SOefoMn"
      }
    },
    {
      "cell_type": "code",
      "execution_count": 2,
      "metadata": {
        "id": "0OErXglmdsCA"
      },
      "outputs": [],
      "source": [
        "from keras.datasets import mnist"
      ]
    },
    {
      "cell_type": "code",
      "source": [
        "(X_train, y_train), (X_test, y_test) = mnist.load_data()"
      ],
      "metadata": {
        "colab": {
          "base_uri": "https://localhost:8080/"
        },
        "id": "vwMMVY-_d0nK",
        "outputId": "32375d4c-661e-4e4d-91b4-ef6c096b9f71"
      },
      "execution_count": 3,
      "outputs": [
        {
          "output_type": "stream",
          "name": "stdout",
          "text": [
            "Downloading data from https://storage.googleapis.com/tensorflow/tf-keras-datasets/mnist.npz\n",
            "11490434/11490434 [==============================] - 0s 0us/step\n"
          ]
        }
      ]
    },
    {
      "cell_type": "code",
      "source": [
        "# we don't need to worry about X_train and X_test because those arrays contain the images.\n",
        "# We can answer basic questions about the dataset by looking at the labels only.\n",
        "\n",
        "import numpy as np\n",
        "labels = np.concatenate((y_train, y_test))"
      ],
      "metadata": {
        "id": "8K1ocCvueFUa"
      },
      "execution_count": 4,
      "outputs": []
    },
    {
      "cell_type": "code",
      "source": [
        "count = np.unique(labels, return_counts=1)[1]\n",
        "count_train = np.unique(y_train, return_counts=1)[1]\n",
        "count_test = np.unique(y_test, return_counts=1)[1]"
      ],
      "metadata": {
        "id": "cGU0BUltelGB"
      },
      "execution_count": 5,
      "outputs": []
    },
    {
      "cell_type": "code",
      "source": [
        "print(count[1])"
      ],
      "metadata": {
        "colab": {
          "base_uri": "https://localhost:8080/"
        },
        "id": "9i2kYe6Se17-",
        "outputId": "eedf09a0-b410-49c7-e373-d8f2101046aa"
      },
      "execution_count": 9,
      "outputs": [
        {
          "output_type": "stream",
          "name": "stdout",
          "text": [
            "7877\n"
          ]
        }
      ]
    },
    {
      "cell_type": "code",
      "source": [
        "print(count_test[0])"
      ],
      "metadata": {
        "colab": {
          "base_uri": "https://localhost:8080/"
        },
        "id": "hQ26Zw0-e5N4",
        "outputId": "49dd7de1-0bee-4c4c-a66e-b429ffb8c88f"
      },
      "execution_count": 10,
      "outputs": [
        {
          "output_type": "stream",
          "name": "stdout",
          "text": [
            "980\n"
          ]
        }
      ]
    },
    {
      "cell_type": "code",
      "source": [
        "print(count_train[3])"
      ],
      "metadata": {
        "colab": {
          "base_uri": "https://localhost:8080/"
        },
        "id": "PZfx015FfLkF",
        "outputId": "d53ddd22-d98d-4566-ed03-8cc43951e8fa"
      },
      "execution_count": 11,
      "outputs": [
        {
          "output_type": "stream",
          "name": "stdout",
          "text": [
            "6131\n"
          ]
        }
      ]
    },
    {
      "cell_type": "code",
      "source": [
        "print(sum(count_train))\n",
        "print(sum(count_test))"
      ],
      "metadata": {
        "colab": {
          "base_uri": "https://localhost:8080/"
        },
        "id": "h05xZw12fRHR",
        "outputId": "361c82e2-60a5-431c-a122-74778fb4f377"
      },
      "execution_count": 14,
      "outputs": [
        {
          "output_type": "stream",
          "name": "stdout",
          "text": [
            "60000\n",
            "10000\n"
          ]
        }
      ]
    },
    {
      "cell_type": "code",
      "source": [],
      "metadata": {
        "id": "Dnh2lCXjfWdo"
      },
      "execution_count": null,
      "outputs": []
    }
  ]
}